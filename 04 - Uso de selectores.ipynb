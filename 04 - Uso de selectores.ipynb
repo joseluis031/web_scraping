{
 "cells": [
  {
   "cell_type": "markdown",
   "id": "0b8bff79",
   "metadata": {},
   "source": [
    "# Uso de selectores\n",
    "\n",
    "Si conocéis el lenguaje CSS entonces ya sabéis lo que vamos a aprender en esta lección.\n",
    "\n",
    "Los selectores son una técnica para especificar de forma más concreta qué elementos recuperar del árbol:\n",
    "\n",
    "| Selector                 | Descripción                      | \n",
    "|--------------------------|----------------------------------| \n",
    "| Etiquetas                | `soup.select(\"tag\")`             | \n",
    "| Identificadores          | `soup.select(\"#id\")`             | \n",
    "| Clases                   | `soup.select(\".class\")`          | \n",
    "| Atributos                | `soup.select(\"tag[attr)`         |  \n",
    "| Etiquetas en etiquetas   | `soup.select(\"parent child\")`    | \n",
    "\n",
    "Vamos a scrapear [la página de Python](https://es.wikipedia.org/wiki/Python) en la Wikipedia para poner en práctica algunos de estos selectores:"
   ]
  },
  {
   "cell_type": "code",
   "execution_count": null,
   "id": "aa1cc8d8",
   "metadata": {},
   "outputs": [],
   "source": [
    "import requests\n",
    "from bs4 import BeautifulSoup\n",
    "\n",
    "req = requests.get(\"https://web.archive.org/web/20220722211457/https://es.wikipedia.org/wiki/Python\")\n",
    "soup = BeautifulSoup(req.text)\n",
    "\n",
    "title = soup.select(\"title\")[0].getText()\n",
    "print(title)"
   ]
  },
  {
   "cell_type": "markdown",
   "id": "74836c47",
   "metadata": {},
   "source": [
    "Haciendo **clic derecho inspeccionar en cualquier navegador** podemos ver el código fuente mientras seleccionamos los elementos de la página.\n",
    "\n",
    "Por ejemplo, en el primer parágrafo del documento encontramos un resumen del artículo:"
   ]
  },
  {
   "cell_type": "code",
   "execution_count": null,
   "id": "70118d22",
   "metadata": {},
   "outputs": [],
   "source": [
    "resumen = soup.select(\"p\")[0].getText()\n",
    "print(resumen)"
   ]
  },
  {
   "cell_type": "markdown",
   "id": "694f4896",
   "metadata": {},
   "source": [
    "## Scrapeando el índice\n",
    "\n",
    "La Wikipedia tiene lo que se conoce como **Tabla de contenidos**, un índice del documento. \n",
    "\n",
    "Según el inspector su etiqueta abre con este tag:\n",
    "\n",
    "```html\n",
    "<div id=\"toc\" class=\"toc\" role=\"navigation\" aria-labelledby=\"mw-toc-heading\">\n",
    "```\n",
    "\n",
    "Es una capa `div` pero tiene un identificador `id` así que podemos usar un selector y luego podemos extraer sus enlaces `a`:"
   ]
  },
  {
   "cell_type": "code",
   "execution_count": null,
   "id": "ce0c5e48",
   "metadata": {},
   "outputs": [],
   "source": [
    "toc = soup.select(\"#toc\")[0]\n",
    "\n",
    "for a in toc.select(\"a\"):\n",
    "    print(a.getText())"
   ]
  },
  {
   "cell_type": "markdown",
   "id": "fa2aa69e",
   "metadata": {},
   "source": [
    "Con un poco de ingenio y una expresión regular podemos mostrar únicamente los enlaces de primer nivel:"
   ]
  },
  {
   "cell_type": "code",
   "execution_count": null,
   "id": "900e1f0e",
   "metadata": {},
   "outputs": [],
   "source": [
    "import re\n",
    "\n",
    "for a in toc.select(\"a\"):\n",
    "    text = a.getText()\n",
    "    if re.match(r\"\\d+ \", text):\n",
    "        print(text)"
   ]
  },
  {
   "cell_type": "markdown",
   "id": "5d9186c7",
   "metadata": {},
   "source": [
    "O formatear los de segundo y tercer nivel con espacios:"
   ]
  },
  {
   "cell_type": "code",
   "execution_count": null,
   "id": "ca738002",
   "metadata": {},
   "outputs": [],
   "source": [
    "import re\n",
    "\n",
    "for a in toc.select(\"a\"):\n",
    "    text = a.getText()\n",
    "    if re.match(r\"\\d+ \", text):\n",
    "        print(text)\n",
    "    elif re.match(r\"\\d+.\\d+ \", text):\n",
    "        print(\" \", text)\n",
    "    elif re.match(r\"\\d+.\\d+.\\d+ \", text):\n",
    "        print(\"   \", text)"
   ]
  },
  {
   "cell_type": "markdown",
   "id": "3344eeb6",
   "metadata": {},
   "source": [
    "Como véis es cuestión de ser creativo y utilizar las herramientas de las que disponemos.\n",
    "\n",
    "## Scrapeando la caja de información\n",
    "\n",
    "Otro elemento interesante que encontramos en el artículo es la caja de información arriba a la derecha, si la insepeccionamos veremos que es una tabla con la clase `infobox`: \n",
    "\n",
    "\n",
    "```html\n",
    "<table class=\"infobox\" style=\"width:22.7em; line-height: 1.4em; text-align:left; padding:.23em;\">\n",
    "```\n",
    "\n",
    "En el lenguaje HTML las tablas se forman a partir de etiquetas con filas `tr` que contienen cabeceras `th` o celdas con datos `td`.\n",
    "\n",
    "Podemos empezar recorriendo las filas a ver qué encontramos:"
   ]
  },
  {
   "cell_type": "code",
   "execution_count": null,
   "id": "b467cbba",
   "metadata": {},
   "outputs": [],
   "source": [
    "tr_tags = soup.select(\".infobox tr\")\n",
    "\n",
    "for tr_tag in tr_tags:\n",
    "    print(tr_tag.getText())"
   ]
  },
  {
   "cell_type": "markdown",
   "id": "bc4d4e99",
   "metadata": {},
   "source": [
    "No está mal pero podríamos reestructurar el contenido de forma que sea más legible.\n",
    "\n",
    "Como cada `tr` tiene en teoría dos columnas, una con la cabecera `th` a la izquierda y el texto `td` a la derecha, podemos usar los índices para formatear el texto de salida:"
   ]
  },
  {
   "cell_type": "code",
   "execution_count": null,
   "id": "fa77376c",
   "metadata": {},
   "outputs": [],
   "source": [
    "tr_tags = soup.select(\".infobox tr\")\n",
    "\n",
    "for tr_tag in tr_tags:\n",
    "    th_tags = tr_tag.select(\"th\")\n",
    "    td_tags = tr_tag.select(\"td\")\n",
    "    if len(th_tags) > 0 and len(td_tags) > 0:\n",
    "        print(f\"{th_tags[0].getText().strip()}: {td_tags[0].getText().strip()}\")"
   ]
  },
  {
   "cell_type": "markdown",
   "id": "d232ae09",
   "metadata": {},
   "source": [
    "## Scrapeando una imagen\n",
    "\n",
    "Por último nos quedó pendiente el logo del `infobox`, si inspeccionamos la imagen veremos que tiene un tag `img` con muchos atributos:\n",
    "\n",
    "```html\n",
    "<img alt=\"Python-logo-notext.svg\" src=\"//web.archive.org/web/20220722211457im_/https://upload.wikimedia.org/wikipedia/commons/thumb/c/c3/Python-logo-notext.svg/100px-Python-logo-notext.svg.png\" decoding=\"async\" width=\"100\" height=\"100\" srcset=\"//web.archive.org/web/20220722211457im_/https://upload.wikimedia.org/wikipedia/commons/thumb/c/c3/Python-logo-notext.svg/150px-Python-logo-notext.svg.png 1.5x, //web.archive.org/web/20220722211457im_/https://upload.wikimedia.org/wikipedia/commons/thumb/c/c3/Python-logo-notext.svg/200px-Python-logo-notext.svg.png 2x\" data-file-width=\"110\" data-file-height=\"110\">\n",
    "```\n",
    "\n",
    "Es un poco difícil recuperar este elemento porque no tiene un identificador único, pero se me ocurre algo mejor...\n",
    "\n",
    "¿No se encuentra la imagen principal siempre en la tabla `infobox`? Pues vamos a utilizarla para recuperar la primera imagen en su interior:"
   ]
  },
  {
   "cell_type": "code",
   "execution_count": null,
   "id": "9c5e2d46",
   "metadata": {},
   "outputs": [],
   "source": [
    "img = soup.select(\".infobox img\")[0]\n",
    "\n",
    "print(img)"
   ]
  },
  {
   "cell_type": "markdown",
   "id": "3ad55151",
   "metadata": {},
   "source": [
    "Genial, solo tenemos que recuperar el enlace de la imagen en su atributo src:"
   ]
  },
  {
   "cell_type": "code",
   "execution_count": null,
   "id": "2c553222",
   "metadata": {},
   "outputs": [],
   "source": [
    "print(img['src'])"
   ]
  },
  {
   "cell_type": "markdown",
   "id": "f2a513cc",
   "metadata": {},
   "source": [
    "Utilizando el propio módulo `requests` podemos guardar la imagen en el directorio de este mismo notebook con el nombre que queramos:"
   ]
  },
  {
   "cell_type": "code",
   "execution_count": null,
   "id": "14cb10a8",
   "metadata": {},
   "outputs": [],
   "source": [
    "# Ponemos el protocolo https: delante porque el enlace no lo incluye\n",
    "response = requests.get(f\"https:{img['src']}\")\n",
    "\n",
    "if response.status_code == 200:\n",
    "    with open(\"image.png\", 'wb') as f:\n",
    "        f.write(response.content)"
   ]
  },
  {
   "cell_type": "markdown",
   "id": "0b6cbbde",
   "metadata": {},
   "source": [
    "Si no falla en principio es que se ha descargado, podemos mostrar la imagen en markdown con un simple código:\n",
    "\n",
    "```markdown\n",
    "![](image.png)\n",
    "```\n",
    "\n",
    "![](image.png)\n",
    "\n",
    "Os recomiendo experimentar por vuestra cuenta para aprender más, en la [documentación oficial](https://www.crummy.com/software/BeautifulSoup/bs4/doc/) tenéis toda la información sobre `bs4` y el manejo de la jerarquía, también tenéis [más ejemplos sobre el uso de select](https://www.crummy.com/software/BeautifulSoup/bs4/doc/#css-selectors)."
   ]
  },
  {
   "cell_type": "code",
   "execution_count": null,
   "id": "16059074",
   "metadata": {},
   "outputs": [],
   "source": []
  }
 ],
 "metadata": {
  "kernelspec": {
   "display_name": "Python 3 (ipykernel)",
   "language": "python",
   "name": "python3"
  },
  "language_info": {
   "codemirror_mode": {
    "name": "ipython",
    "version": 3
   },
   "file_extension": ".py",
   "mimetype": "text/x-python",
   "name": "python",
   "nbconvert_exporter": "python",
   "pygments_lexer": "ipython3",
   "version": "3.10.5"
  }
 },
 "nbformat": 4,
 "nbformat_minor": 5
}
