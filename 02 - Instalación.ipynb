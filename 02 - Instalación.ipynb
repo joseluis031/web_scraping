{
 "cells": [
  {
   "cell_type": "markdown",
   "id": "2ef16490",
   "metadata": {},
   "source": [
    "# Configuración previa\n",
    "\n",
    "Instalación de `requests` y `BeautifulSoup4`:\n",
    "\n",
    "```bash\n",
    "pip install requests beautifulsoup4\n",
    "```\n",
    "\n",
    "También se pueden instalar desde el propio `Jupyter Notebook` con una exclamación delante:\n",
    "\n",
    "```bash\n",
    "!pip install requests beautifulsoup4\n",
    "```"
   ]
  }
 ],
 "metadata": {
  "kernelspec": {
   "display_name": "Python 3 (ipykernel)",
   "language": "python",
   "name": "python3"
  },
  "language_info": {
   "codemirror_mode": {
    "name": "ipython",
    "version": 3
   },
   "file_extension": ".py",
   "mimetype": "text/x-python",
   "name": "python",
   "nbconvert_exporter": "python",
   "pygments_lexer": "ipython3",
   "version": "3.10.5"
  }
 },
 "nbformat": 4,
 "nbformat_minor": 5
}
